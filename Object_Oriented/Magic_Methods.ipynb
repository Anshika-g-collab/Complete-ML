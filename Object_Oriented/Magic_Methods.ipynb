{
 "cells": [
  {
   "cell_type": "markdown",
   "metadata": {},
   "source": [
    "### Magic Methods\n",
    "Magic methods in Python , also known as dunder methods (double underscore methods),special methods that start and end with double underscores. These methods enable you to define the behavior of objects for built-in operations, such as arithmetic operations , comparisions, and more.\n"
   ]
  },
  {
   "cell_type": "markdown",
   "metadata": {},
   "source": [
    "#### Magic Methods\n",
    "Magic methods are predefined methods in Python that you can override to change the behavior of your objects. Some common magic methods include:\n",
    "* **init** : Initialises a new instance of a class. \n",
    "* **str** : Returns a string representation of an object. \n",
    "* **repr** : Returns an official string representation of an object. \n",
    "* **len** : Returns the length of an object.\n",
    "* **getitem** : Get an item from a container.\n",
    "* **setitem** : Sets an item in a container.\n",
    "\n"
   ]
  },
  {
   "cell_type": "code",
   "execution_count": 2,
   "metadata": {},
   "outputs": [
    {
     "name": "stdout",
     "output_type": "stream",
     "text": [
      "<__main__.Person object at 0x0000023DDC5AB7D0>\n"
     ]
    }
   ],
   "source": [
    "### Basic methods\n",
    "class Person:\n",
    "    def __init__(self,name,age):\n",
    "        self.name = name\n",
    "        self.age = age\n",
    "\n",
    "person = Person(\"Anshika\",18)\n",
    "print(person)\n"
   ]
  },
  {
   "cell_type": "code",
   "execution_count": 6,
   "metadata": {},
   "outputs": [
    {
     "name": "stdout",
     "output_type": "stream",
     "text": [
      "Anshika,18 years old\n",
      "Person (name=Anshika,age=18)\n"
     ]
    }
   ],
   "source": [
    "class Person:\n",
    "    def __init__(self,name,age):\n",
    "        self.name = name\n",
    "        self.age = age\n",
    "    def __str__(self):\n",
    "        return f\"{self.name},{self.age} years old\"\n",
    "    def __repr__(self):\n",
    "        return f\"Person (name={self.name},age={self.age})\"\n",
    "person = Person(\"Anshika\",18)\n",
    "print(person)\n",
    "print(repr(person))\n"
   ]
  },
  {
   "cell_type": "code",
   "execution_count": null,
   "metadata": {},
   "outputs": [],
   "source": []
  }
 ],
 "metadata": {
  "kernelspec": {
   "display_name": "base",
   "language": "python",
   "name": "python3"
  },
  "language_info": {
   "codemirror_mode": {
    "name": "ipython",
    "version": 3
   },
   "file_extension": ".py",
   "mimetype": "text/x-python",
   "name": "python",
   "nbconvert_exporter": "python",
   "pygments_lexer": "ipython3",
   "version": "3.12.4"
  }
 },
 "nbformat": 4,
 "nbformat_minor": 2
}
