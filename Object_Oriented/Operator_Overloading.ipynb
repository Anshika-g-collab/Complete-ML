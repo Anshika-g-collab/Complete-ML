{
 "cells": [
  {
   "cell_type": "markdown",
   "metadata": {},
   "source": [
    "### Operator Overloading\n",
    "Operator overloading allows you to define the behavior of operators(+,-,*,etc). for custom objects. You achieve this by overriding specific magic methods in your class."
   ]
  },
  {
   "cell_type": "code",
   "execution_count": null,
   "metadata": {},
   "outputs": [],
   "source": [
    "### Common Operator overloading **magic methods**.\n",
    "\"\"\"\n",
    "__add__(self,other): Adds two objects using the '+' operator.\n",
    "__sub__(self,other): Subtracts two objects using the '-' operator.\n",
    "__mul__(self,other): Multiplies two objects using the '*' operator.\n",
    "__truediv__(self,other): Divides two objects using the '/' operator.\n",
    "__eq__(self,other) : Checks if two objects are equal using '=' operator.\n",
    "__lt__(self,other): Checks  if one object is less than another using the '<' operator.\n",
    "\n",
    "\"\"\""
   ]
  },
  {
   "cell_type": "code",
   "execution_count": null,
   "metadata": {},
   "outputs": [
    {
     "name": "stdout",
     "output_type": "stream",
     "text": [
      "Vector(12,7)\n",
      "Vector(-4,3)\n",
      "Vector(32,10)\n",
      "Vector(False,False)\n"
     ]
    }
   ],
   "source": [
    "### Mathematical operation for vectors\n",
    "\n",
    "class Vector:\n",
    "    def __init__(self,x,y):\n",
    "        self.x = x\n",
    "        self.y = y\n",
    "    def __add__(self,other):\n",
    "        return Vector(self.x+other.x,self.y+other.y)\n",
    "    def __sub__(self,other):\n",
    "        return Vector(self.x-other.x,self.y-other.y)\n",
    "    def __mul__(self,other):\n",
    "        return Vector(self.x*other.x,self.y*other.y)\n",
    "    def __eq__(self,other):\n",
    "        return Vector(self.x==other.x,self.y==other.y)\n",
    "    def __repr__(self):\n",
    "        return f\"Vector({self.x},{self.y})\"\n",
    "    \n",
    "## Creating objects for vector class\n",
    "v1 = Vector(4,5)\n",
    "v2 = Vector(8,2)\n",
    "print(v1+v2)\n",
    "print(v1-v2)\n",
    "print(v1*v2)\n",
    "print(v1==v2)"
   ]
  },
  {
   "cell_type": "code",
   "execution_count": 6,
   "metadata": {},
   "outputs": [
    {
     "name": "stdout",
     "output_type": "stream",
     "text": [
      "8 + 10i\n",
      "2.54 + 2.46i\n",
      "-9 + 32i\n",
      "False\n"
     ]
    }
   ],
   "source": [
    "### Overlaoding operators for complex function.\n",
    "class Complex:\n",
    "    def __init__(self,real,img):\n",
    "        self.real = real\n",
    "        self.img = img\n",
    "    def __add__(self,other):\n",
    "        return Complex(self.real+other.real,self.img+other.img)\n",
    "    def __mul__(self,other):\n",
    "        real_part = self.real * other.real - self.img * other.img\n",
    "        img_part = self.real * other.img + self.img * other.real\n",
    "        return Complex(real_part,img_part)\n",
    "    def __truediv__(self,other):\n",
    "        deno = other.real**2 + other.img**2\n",
    "        real_part = round((self.real*other.real + self.img*other.img)/deno,2)\n",
    "        img_part = round((self.img*other.real + self.real*other.img)/deno,2)\n",
    "        return Complex(real_part,img_part)\n",
    "    def __eq__(self,other):\n",
    "        return self.real == other.real and self.img == other.img\n",
    "    def __repr__(self):\n",
    "        return f\"{self.real} + {self.img}i\"\n",
    "    \n",
    "## Creating objects\n",
    "complex1  = Complex(6,7)\n",
    "complex2  = Complex(2,3)\n",
    "print(complex1+complex2)\n",
    "print(complex1/complex2)\n",
    "print(complex1*complex2)\n",
    "print(complex1==complex2)\n"
   ]
  },
  {
   "cell_type": "code",
   "execution_count": null,
   "metadata": {},
   "outputs": [],
   "source": []
  }
 ],
 "metadata": {
  "kernelspec": {
   "display_name": "base",
   "language": "python",
   "name": "python3"
  },
  "language_info": {
   "codemirror_mode": {
    "name": "ipython",
    "version": 3
   },
   "file_extension": ".py",
   "mimetype": "text/x-python",
   "name": "python",
   "nbconvert_exporter": "python",
   "pygments_lexer": "ipython3",
   "version": "3.12.4"
  }
 },
 "nbformat": 4,
 "nbformat_minor": 2
}
