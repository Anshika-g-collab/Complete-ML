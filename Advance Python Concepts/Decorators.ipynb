{
 "cells": [
  {
   "cell_type": "markdown",
   "metadata": {},
   "source": [
    "### Decorators -\n",
    "Decorators are powerful and flexible feature in Python that allows you to modify the behavior of a function or class method. They are commonly used to add functionality to functions or methods without modifying their actual code. This lesson covers the basics of decorators, including how to create and use the."
   ]
  },
  {
   "cell_type": "markdown",
   "metadata": {},
   "source": [
    "* function copy\n",
    "* closures\n",
    "* decorators"
   ]
  },
  {
   "cell_type": "code",
   "execution_count": 1,
   "metadata": {},
   "outputs": [
    {
     "data": {
      "text/plain": [
       "'welcome to the advance Python course.'"
      ]
     },
     "execution_count": 1,
     "metadata": {},
     "output_type": "execute_result"
    }
   ],
   "source": [
    "def welcome():\n",
    "    return \"welcome to the advance Python course.\"\n",
    "welcome()"
   ]
  },
  {
   "cell_type": "code",
   "execution_count": null,
   "metadata": {},
   "outputs": [
    {
     "data": {
      "text/plain": [
       "'welcome to the advance Python course.'"
      ]
     },
     "execution_count": 3,
     "metadata": {},
     "output_type": "execute_result"
    }
   ],
   "source": [
    "## function copy\n",
    "wel = welcome\n",
    "wel()"
   ]
  },
  {
   "cell_type": "code",
   "execution_count": 5,
   "metadata": {},
   "outputs": [
    {
     "data": {
      "text/plain": [
       "'welcome to the advance Python course.'"
      ]
     },
     "execution_count": 5,
     "metadata": {},
     "output_type": "execute_result"
    }
   ],
   "source": [
    "del welcome\n",
    "wel()"
   ]
  },
  {
   "cell_type": "code",
   "execution_count": 6,
   "metadata": {},
   "outputs": [],
   "source": [
    "### Closures - function inside function\n",
    "\n",
    "def main_welcome():\n",
    "    msg = \"Welcome\"\n",
    "    def sub_welcome_method():\n",
    "        print(\"Welcome to advance python course\")\n",
    "\n",
    "        print(\"Please learn this concepts properly.\")\n",
    "    return sub_welcome_method()\n"
   ]
  },
  {
   "cell_type": "code",
   "execution_count": 7,
   "metadata": {},
   "outputs": [
    {
     "name": "stdout",
     "output_type": "stream",
     "text": [
      "Welcome to advance python course\n",
      "Please learn this concepts properly.\n"
     ]
    }
   ],
   "source": [
    "main_welcome()"
   ]
  },
  {
   "cell_type": "code",
   "execution_count": 10,
   "metadata": {},
   "outputs": [],
   "source": [
    "def main_welcome(msg):\n",
    "    def sub_welcome_method():\n",
    "        print(\"Welcome to advance python course\")\n",
    "        print(msg)\n",
    "        print(\"Please learn this concepts properly.\")\n",
    "    return sub_welcome_method()\n"
   ]
  },
  {
   "cell_type": "code",
   "execution_count": 11,
   "metadata": {},
   "outputs": [
    {
     "name": "stdout",
     "output_type": "stream",
     "text": [
      "Welcome to advance python course\n",
      "Hello everyone!\n",
      "Please learn this concepts properly.\n"
     ]
    }
   ],
   "source": [
    "main_welcome(\"Hello everyone!\")"
   ]
  },
  {
   "cell_type": "code",
   "execution_count": 13,
   "metadata": {},
   "outputs": [],
   "source": [
    "def main_welcome(func):\n",
    "    msg = \"Welcome\"\n",
    "    def sub_welcome_method():\n",
    "        print(\"Welcome to advance python course\")\n",
    "        func(\"Welcome everyone!\")\n",
    "        print(\"Please learn this concepts properly.\")\n",
    "    return sub_welcome_method()\n"
   ]
  },
  {
   "cell_type": "code",
   "execution_count": 14,
   "metadata": {},
   "outputs": [
    {
     "name": "stdout",
     "output_type": "stream",
     "text": [
      "Welcome to advance python course\n",
      "Welcome everyone!\n",
      "Please learn this concepts properly.\n"
     ]
    }
   ],
   "source": [
    "main_welcome(print)"
   ]
  },
  {
   "cell_type": "code",
   "execution_count": 15,
   "metadata": {},
   "outputs": [],
   "source": [
    "def main_welcome(func,lst):\n",
    "    msg = \"Welcome\"\n",
    "    def sub_welcome_method():\n",
    "        print(\"Welcome to advance python course\")\n",
    "        print(func(lst))\n",
    "        print(\"Please learn this concepts properly.\")\n",
    "    return sub_welcome_method()\n"
   ]
  },
  {
   "cell_type": "code",
   "execution_count": 16,
   "metadata": {},
   "outputs": [
    {
     "name": "stdout",
     "output_type": "stream",
     "text": [
      "Welcome to advance python course\n",
      "5\n",
      "Please learn this concepts properly.\n"
     ]
    }
   ],
   "source": [
    "main_welcome(len,[1,2,3,4,5])"
   ]
  },
  {
   "cell_type": "code",
   "execution_count": 17,
   "metadata": {},
   "outputs": [],
   "source": [
    "### Decorators\n",
    "\n",
    "def main_welcome(func):\n",
    "    def sub_welcome_method():\n",
    "        print(\"Welcome to advance python course\")\n",
    "        func()\n",
    "        print(\"Please learn this concepts properly.\")\n",
    "    return sub_welcome_method()\n"
   ]
  },
  {
   "cell_type": "code",
   "execution_count": 18,
   "metadata": {},
   "outputs": [
    {
     "name": "stdout",
     "output_type": "stream",
     "text": [
      "Welcome to advance python course\n",
      "This is advanced python course.\n",
      "Please learn this concepts properly.\n"
     ]
    }
   ],
   "source": [
    "def course_introduction():\n",
    "    print(\"This is advanced python course.\")\n",
    "\n",
    "main_welcome(course_introduction)"
   ]
  },
  {
   "cell_type": "code",
   "execution_count": null,
   "metadata": {},
   "outputs": [
    {
     "name": "stdout",
     "output_type": "stream",
     "text": [
      "Welcome to advance python course\n",
      "This is advanced python course.\n",
      "Please learn this concepts properly.\n"
     ]
    }
   ],
   "source": [
    "@main_welcome\n",
    "def course_introduction(): # this function is going inside main_welcome as a parameter\n",
    "    print(\"This is advanced python course.\")    "
   ]
  },
  {
   "cell_type": "code",
   "execution_count": 21,
   "metadata": {},
   "outputs": [],
   "source": [
    "## Decorator\n",
    "def My_decorator(func):\n",
    "    def wrapper():\n",
    "        print(\"Something is happening before function call.\")\n",
    "        func()\n",
    "        print(\"Something is called after function call.\")\n",
    "    return wrapper"
   ]
  },
  {
   "cell_type": "code",
   "execution_count": 22,
   "metadata": {},
   "outputs": [],
   "source": [
    "@My_decorator\n",
    "def say_hello():\n",
    "    print(\"Hello world\")"
   ]
  },
  {
   "cell_type": "code",
   "execution_count": 23,
   "metadata": {},
   "outputs": [
    {
     "name": "stdout",
     "output_type": "stream",
     "text": [
      "Something is happening before function call.\n",
      "Hello world\n",
      "Something is called after function call.\n"
     ]
    }
   ],
   "source": [
    "say_hello()"
   ]
  },
  {
   "cell_type": "code",
   "execution_count": 25,
   "metadata": {},
   "outputs": [],
   "source": [
    "### Decorators with arguments\n",
    "def repeat(n):\n",
    "    def decorator(func):\n",
    "        def wrapper(*args,**kwargs):\n",
    "            for _ in range(n):\n",
    "                func(*args,**kwargs)\n",
    "        return wrapper\n",
    "    return decorator"
   ]
  },
  {
   "cell_type": "code",
   "execution_count": 26,
   "metadata": {},
   "outputs": [],
   "source": [
    "@repeat(3)\n",
    "def print_hello():\n",
    "    print(\"Hello\")"
   ]
  },
  {
   "cell_type": "code",
   "execution_count": 27,
   "metadata": {},
   "outputs": [
    {
     "name": "stdout",
     "output_type": "stream",
     "text": [
      "Hello\n",
      "Hello\n",
      "Hello\n"
     ]
    }
   ],
   "source": [
    "print_hello()"
   ]
  },
  {
   "cell_type": "markdown",
   "metadata": {},
   "source": [
    "#### Conclusion\n",
    "Decorators are powerful tool in python for extending and modifying the behavior of functions and methods. They provide a clean and readable way to add functionality sun as logging, timing , access control , and more without cleaning the original code. Understanding and using decorators effectively can significantly enhance your Python programming skills. "
   ]
  },
  {
   "cell_type": "markdown",
   "metadata": {},
   "source": []
  }
 ],
 "metadata": {
  "kernelspec": {
   "display_name": "base",
   "language": "python",
   "name": "python3"
  },
  "language_info": {
   "codemirror_mode": {
    "name": "ipython",
    "version": 3
   },
   "file_extension": ".py",
   "mimetype": "text/x-python",
   "name": "python",
   "nbconvert_exporter": "python",
   "pygments_lexer": "ipython3",
   "version": "3.12.4"
  }
 },
 "nbformat": 4,
 "nbformat_minor": 2
}
