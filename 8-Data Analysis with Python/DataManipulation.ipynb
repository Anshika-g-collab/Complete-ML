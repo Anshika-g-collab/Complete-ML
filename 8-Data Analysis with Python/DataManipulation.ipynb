{
 "cells": [
  {
   "cell_type": "markdown",
   "metadata": {},
   "source": [
    "### Data Manipulation and Analysis with Pandas\n",
    "Data Manipulation and analysis are key tasks in nay data science or data analysis project. Pandas provides a wide range of functions for data manipulation and analysis , making easier to clean , transform , and extract insights from data . "
   ]
  },
  {
   "cell_type": "markdown",
   "metadata": {},
   "source": []
  }
 ],
 "metadata": {
  "language_info": {
   "name": "python"
  }
 },
 "nbformat": 4,
 "nbformat_minor": 2
}
