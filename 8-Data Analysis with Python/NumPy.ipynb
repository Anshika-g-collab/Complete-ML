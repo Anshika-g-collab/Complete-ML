{
 "cells": [
  {
   "cell_type": "markdown",
   "metadata": {},
   "source": [
    "### NumPy \n",
    "NumPy is a fundamental library for scientific computation in Python . It provides support for arrays and matrices ,along with a collenction of mathematical functions to operate on these data structures. "
   ]
  },
  {
   "cell_type": "code",
   "execution_count": 2,
   "metadata": {},
   "outputs": [],
   "source": [
    "import numpy as np"
   ]
  },
  {
   "cell_type": "code",
   "execution_count": 4,
   "metadata": {},
   "outputs": [
    {
     "name": "stdout",
     "output_type": "stream",
     "text": [
      "[1 2 3 4 5 6]\n",
      "<class 'numpy.ndarray'>\n",
      "(6,)\n"
     ]
    }
   ],
   "source": [
    "## Create an array using numpy\n",
    "## Create a 1D array\n",
    "\n",
    "arr1 = np.array([1,2,3,4,5,6])\n",
    "print(arr1)\n",
    "print(type(arr1))\n",
    "print(arr1.shape)"
   ]
  },
  {
   "cell_type": "code",
   "execution_count": null,
   "metadata": {},
   "outputs": [
    {
     "data": {
      "text/plain": [
       "array([[1, 2, 3, 4, 5, 6]])"
      ]
     },
     "execution_count": 6,
     "metadata": {},
     "output_type": "execute_result"
    }
   ],
   "source": [
    "arr2 = np.array([1,2,3,4,5,6])\n",
    "arr2.reshape(1,6) ## total elements"
   ]
  },
  {
   "cell_type": "code",
   "execution_count": null,
   "metadata": {},
   "outputs": [
    {
     "name": "stdout",
     "output_type": "stream",
     "text": [
      "[[ 1  2  3]\n",
      " [90 89 22]]\n",
      "(2, 3)\n"
     ]
    }
   ],
   "source": [
    "## 2D array\n",
    "arr2 = np.array([[1,2,3],[90,89,22]])\n",
    "print(arr2)\n",
    "print(arr2.shape)"
   ]
  },
  {
   "cell_type": "code",
   "execution_count": 12,
   "metadata": {},
   "outputs": [
    {
     "data": {
      "text/plain": [
       "array([0, 2, 4, 6, 8])"
      ]
     },
     "execution_count": 12,
     "metadata": {},
     "output_type": "execute_result"
    }
   ],
   "source": [
    "np.arange(0,10,2)"
   ]
  },
  {
   "cell_type": "code",
   "execution_count": 13,
   "metadata": {},
   "outputs": [
    {
     "data": {
      "text/plain": [
       "array([[0],\n",
       "       [2],\n",
       "       [4],\n",
       "       [6],\n",
       "       [8]])"
      ]
     },
     "execution_count": 13,
     "metadata": {},
     "output_type": "execute_result"
    }
   ],
   "source": [
    "np.arange(0,10,2).reshape(5,1)"
   ]
  },
  {
   "cell_type": "code",
   "execution_count": 14,
   "metadata": {},
   "outputs": [
    {
     "data": {
      "text/plain": [
       "array([[1., 1., 1., 1.],\n",
       "       [1., 1., 1., 1.],\n",
       "       [1., 1., 1., 1.]])"
      ]
     },
     "execution_count": 14,
     "metadata": {},
     "output_type": "execute_result"
    }
   ],
   "source": [
    "np.ones((3,4)) # 3-rows # 4-columns"
   ]
  },
  {
   "cell_type": "code",
   "execution_count": 17,
   "metadata": {},
   "outputs": [
    {
     "data": {
      "text/plain": [
       "array([[1., 0., 0., 0.],\n",
       "       [0., 1., 0., 0.],\n",
       "       [0., 0., 1., 0.],\n",
       "       [0., 0., 0., 1.]])"
      ]
     },
     "execution_count": 17,
     "metadata": {},
     "output_type": "execute_result"
    }
   ],
   "source": [
    "## Identity matrix\n",
    "np.eye((4))"
   ]
  },
  {
   "cell_type": "code",
   "execution_count": 19,
   "metadata": {},
   "outputs": [
    {
     "name": "stdout",
     "output_type": "stream",
     "text": [
      "Array\n",
      " [[1 2 3]\n",
      " [4 5 6]]\n",
      "Shape: (2, 3)\n",
      "Number of dimension: 2\n",
      "Size(Num. of elements): 6\n",
      "Data Type: int32\n",
      "Item Size(in Bytes): 4\n"
     ]
    }
   ],
   "source": [
    "arr  = np.array([[1,2,3],[4,5,6]])\n",
    "print(\"Array\\n\",arr)\n",
    "print(\"Shape:\",arr.shape)\n",
    "print(\"Number of dimension:\",arr.ndim)\n",
    "print(\"Size(Num. of elements):\",arr.size)\n",
    "print(\"Data Type:\",arr.dtype)\n",
    "print(\"Item Size(in Bytes):\",arr.itemsize)"
   ]
  },
  {
   "cell_type": "code",
   "execution_count": 9,
   "metadata": {},
   "outputs": [
    {
     "name": "stdout",
     "output_type": "stream",
     "text": [
      "Addition: [ 7  9 11 13 15]\n",
      "Substraction: [-5 -5 -5 -5 -5]\n",
      "Multiplication: [ 6 14 24 36 50]\n",
      "Division: [0.16666667 0.28571429 0.375      0.44444444 0.5       ]\n"
     ]
    }
   ],
   "source": [
    "### Numpy vectorised operations\n",
    "arr1 = np.array([1,2,3,4,5])\n",
    "arr2 = np.array([6,7,8,9,10])\n",
    "\n",
    "## Element wise addition \n",
    "print(\"Addition:\",arr1+arr2)\n",
    "\n",
    "## Element wise substraction\n",
    "print(\"Substraction:\",arr1-arr2)\n",
    "\n",
    "## Element wise multiplication\n",
    "print(\"Multiplication:\",arr1*arr2)\n",
    "\n",
    "## Element wise Division\n",
    "print(\"Division:\",arr1/arr2)"
   ]
  },
  {
   "cell_type": "code",
   "execution_count": 11,
   "metadata": {},
   "outputs": [
    {
     "name": "stdout",
     "output_type": "stream",
     "text": [
      "[1.         1.41421356 1.73205081 2.         2.23606798]\n",
      "[  2.71828183   7.3890561   20.08553692  54.59815003 148.4131591 ]\n",
      "[ 0.84147098  0.90929743  0.14112001 -0.7568025  -0.95892427]\n",
      "[0.         0.69314718 1.09861229 1.38629436 1.60943791]\n"
     ]
    }
   ],
   "source": [
    "## Universal function\n",
    "\n",
    "\n",
    "arr = np.array([1,2,3,4,5])\n",
    "\n",
    "## square\n",
    "print(np.sqrt(arr))\n",
    "\n",
    "## Exponential\n",
    "print(np.exp(arr))\n",
    "\n",
    "## sine\n",
    "print(np.sin(arr))\n",
    "\n",
    "## Log\n",
    "print(np.log(arr))"
   ]
  },
  {
   "cell_type": "code",
   "execution_count": 12,
   "metadata": {},
   "outputs": [
    {
     "name": "stdout",
     "output_type": "stream",
     "text": [
      "Array:\n",
      " [[1 2 3]\n",
      " [4 5 6]\n",
      " [7 8 9]]\n"
     ]
    }
   ],
   "source": [
    "## Array slicing and indexing\n",
    "arr = np.array([[1,2,3],[4,5,6],[7,8,9]])\n",
    "print(\"Array:\\n\",arr)"
   ]
  },
  {
   "cell_type": "code",
   "execution_count": 14,
   "metadata": {},
   "outputs": [
    {
     "name": "stdout",
     "output_type": "stream",
     "text": [
      "1\n",
      "2\n",
      "3\n",
      "4\n",
      "5\n",
      "6\n",
      "7\n",
      "8\n",
      "9\n"
     ]
    }
   ],
   "source": [
    "print(arr[0][0])\n",
    "print(arr[0][1])\n",
    "print(arr[0][2])\n",
    "\n",
    "print(arr[1][0])\n",
    "print(arr[1][1])\n",
    "print(arr[1][2])\n",
    "\n",
    "print(arr[2][0])\n",
    "print(arr[2][1])\n",
    "print(arr[2][2])\n"
   ]
  },
  {
   "cell_type": "code",
   "execution_count": 16,
   "metadata": {},
   "outputs": [
    {
     "data": {
      "text/plain": [
       "array([[4, 5, 6],\n",
       "       [7, 8, 9]])"
      ]
     },
     "execution_count": 16,
     "metadata": {},
     "output_type": "execute_result"
    }
   ],
   "source": [
    "arr[1:]"
   ]
  },
  {
   "cell_type": "code",
   "execution_count": 18,
   "metadata": {},
   "outputs": [
    {
     "data": {
      "text/plain": [
       "array([[6],\n",
       "       [9]])"
      ]
     },
     "execution_count": 18,
     "metadata": {},
     "output_type": "execute_result"
    }
   ],
   "source": [
    "arr[1:,2:]"
   ]
  },
  {
   "cell_type": "code",
   "execution_count": 19,
   "metadata": {},
   "outputs": [
    {
     "name": "stdout",
     "output_type": "stream",
     "text": [
      "[[  1   2   3]\n",
      " [100 100 100]\n",
      " [100 100 100]]\n"
     ]
    }
   ],
   "source": [
    "## Modify array elements\n",
    "arr[1:]=100\n",
    "print(arr)"
   ]
  },
  {
   "cell_type": "code",
   "execution_count": 20,
   "metadata": {},
   "outputs": [
    {
     "name": "stdout",
     "output_type": "stream",
     "text": [
      "Normalised data: [-1.41421356 -0.70710678  0.          0.70710678  1.41421356]\n"
     ]
    }
   ],
   "source": [
    "### Statistical concepts -- Normalisation\n",
    "### to have a mean of 0 and standard deviation of 1\n",
    "data = np.array([1,2,3,4,5])\n",
    "mean= np.mean(data)\n",
    "std_dev = np.std(data)\n",
    "\n",
    "## Noramalisation\n",
    "normalised_data = (data-mean)/std_dev\n",
    "print(\"Normalised data:\",normalised_data)\n",
    "\n"
   ]
  },
  {
   "cell_type": "code",
   "execution_count": 21,
   "metadata": {},
   "outputs": [
    {
     "name": "stdout",
     "output_type": "stream",
     "text": [
      "Mean: 3.0\n",
      "Median: 3.0\n",
      "Standard Deviation: 1.4142135623730951\n",
      "Variance: 2.0\n"
     ]
    }
   ],
   "source": [
    "mean = np.mean(data)\n",
    "print(\"Mean:\",mean)\n",
    "\n",
    "median = np.median(data)\n",
    "print(\"Median:\",median)\n",
    "\n",
    "std_dev = np.std(data)\n",
    "print(\"Standard Deviation:\",std_dev)\n",
    "\n",
    "variance = np.var(data)\n",
    "print(\"Variance:\",variance)\n"
   ]
  },
  {
   "cell_type": "code",
   "execution_count": null,
   "metadata": {},
   "outputs": [
    {
     "data": {
      "text/plain": [
       "array([False, False, False, False, False,  True,  True,  True,  True,\n",
       "        True])"
      ]
     },
     "execution_count": 22,
     "metadata": {},
     "output_type": "execute_result"
    }
   ],
   "source": [
    "## Logical operations\n",
    "data = np.array([1,2,3,4,5,6,7,8,9,10])\n",
    "data>5"
   ]
  },
  {
   "cell_type": "code",
   "execution_count": 25,
   "metadata": {},
   "outputs": [
    {
     "data": {
      "text/plain": [
       "array([6, 7])"
      ]
     },
     "execution_count": 25,
     "metadata": {},
     "output_type": "execute_result"
    }
   ],
   "source": [
    "data[(data>5) & (data<8)]"
   ]
  },
  {
   "cell_type": "code",
   "execution_count": null,
   "metadata": {},
   "outputs": [],
   "source": []
  }
 ],
 "metadata": {
  "kernelspec": {
   "display_name": "base",
   "language": "python",
   "name": "python3"
  },
  "language_info": {
   "codemirror_mode": {
    "name": "ipython",
    "version": 3
   },
   "file_extension": ".py",
   "mimetype": "text/x-python",
   "name": "python",
   "nbconvert_exporter": "python",
   "pygments_lexer": "ipython3",
   "version": "3.12.4"
  }
 },
 "nbformat": 4,
 "nbformat_minor": 2
}
