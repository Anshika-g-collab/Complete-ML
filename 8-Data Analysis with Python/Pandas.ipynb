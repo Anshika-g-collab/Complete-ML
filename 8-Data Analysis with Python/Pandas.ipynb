{
 "cells": [
  {
   "cell_type": "markdown",
   "metadata": {},
   "source": [
    "### Pandas-DataFrame and Series\n",
    "Pandas is a powerful data manipulation library in Python,widely used for data analysis and data cleaning. It provides two primary data structures:Series and DataFrames.A series is one dimensional array-like object, while Data Frame is a Two-dimesional, size-mutable , and potentially heterogeneous tabular data structure with labeled axes(rows and columns)"
   ]
  },
  {
   "cell_type": "code",
   "execution_count": null,
   "metadata": {},
   "outputs": [],
   "source": []
  }
 ],
 "metadata": {
  "kernelspec": {
   "display_name": "base",
   "language": "python",
   "name": "python3"
  },
  "language_info": {
   "name": "python",
   "version": "3.12.7"
  }
 },
 "nbformat": 4,
 "nbformat_minor": 2
}
