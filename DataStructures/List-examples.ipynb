{
 "cells": [
  {
   "cell_type": "markdown",
   "metadata": {},
   "source": [
    "### Real-world examples using lists in python\n",
    "\n",
    "Lists are one of the most commonly used data structures in Python, thanks to their versatility and  ease of use. here are several practical examples that illustrate their use in real-world scenerios"
   ]
  },
  {
   "cell_type": "markdown",
   "metadata": {},
   "source": [
    "Example 1 . Manage a To-do list\n",
    "    , create a To-Do List to keep track of tasks"
   ]
  },
  {
   "cell_type": "code",
   "execution_count": 1,
   "metadata": {},
   "outputs": [
    {
     "name": "stdout",
     "output_type": "stream",
     "text": [
      "Hey! Don't forget to pay the utility bills\n",
      "To do list remaining\n",
      "-Buy Groceries\n",
      "-Pay bills\n",
      "-Schedule meeting\n",
      "-Go for a Run\n"
     ]
    }
   ],
   "source": [
    "to_do_list = [\"Buy Groceries\",\"Clean the house\",\"Pay bills\"]\n",
    "\n",
    "## Adding to task\n",
    "to_do_list.append(\"Schedule meeting\")\n",
    "to_do_list.append(\"Go for a Run\")\n",
    "\n",
    "## removing a completed task\n",
    "to_do_list.remove(\"Clean the house\")\n",
    "\n",
    "## checking  if a task is in the list\n",
    "if 'Pay bills' in to_do_list:\n",
    "    print(\"Hey! Don't forget to pay the utility bills\")\n",
    "\n",
    "\n",
    "print(\"To do list remaining\")\n",
    "for task in to_do_list:\n",
    "    print(f\"-{task}\")"
   ]
  },
  {
   "cell_type": "markdown",
   "metadata": {},
   "source": [
    "Example 2 : Organising student grades\n",
    ", create a list to store and calculate average grades for students"
   ]
  },
  {
   "cell_type": "code",
   "execution_count": 2,
   "metadata": {},
   "outputs": [
    {
     "name": "stdout",
     "output_type": "stream",
     "text": [
      "Average Grade: 88.00\n",
      "Highest Grade: 95\n",
      "Lowest Grade: 78\n"
     ]
    }
   ],
   "source": [
    "grades = [85,92,78,90,88]\n",
    "\n",
    "# Adding a new grade\n",
    "grades.append(95)\n",
    "\n",
    "# Calculating the average grade\n",
    "average_grade = sum(grades)/len(grades)\n",
    "print(f\"Average Grade: {average_grade:.2f}\")\n",
    "\n",
    "#Finding the highest and lowest grades\n",
    "highest_grade = max(grades)\n",
    "lowest_grade = min(grades)\n",
    "print(f\"Highest Grade: {highest_grade}\")\n",
    "print(f\"Lowest Grade: {lowest_grade}\")\n"
   ]
  },
  {
   "cell_type": "markdown",
   "metadata": {},
   "source": [
    "Example 3 : Managing Inventory , use  a list to manage inventory items in a store\n"
   ]
  },
  {
   "cell_type": "code",
   "execution_count": 5,
   "metadata": {},
   "outputs": [
    {
     "name": "stdout",
     "output_type": "stream",
     "text": [
      "oranges are in stock.\n",
      "Inventory List:\n",
      "-apples\n",
      "-oranges\n",
      "-grapes\n",
      "-strawberries\n"
     ]
    }
   ],
   "source": [
    "inventory = ['apples','bananas','oranges','grapes']\n",
    "\n",
    "# adding a new item\n",
    "inventory.append(\"strawberries\")\n",
    "\n",
    "#removing  an item that is out of stock\n",
    "inventory.remove(\"bananas\")\n",
    "\n",
    "item = 'oranges'\n",
    "if item in inventory:\n",
    "    print(f\"{item} are in stock.\")\n",
    "else:\n",
    "    print(f\"{item} are out of stock.\")\n",
    "\n",
    "##  Printing the inventory\n",
    "\n",
    "print(\"Inventory List:\")\n",
    "for item in inventory:\n",
    "    print(f\"-{item}\")"
   ]
  },
  {
   "cell_type": "markdown",
   "metadata": {},
   "source": [
    "Example 4 : Collecting user feedback,\n",
    "    use a list to collect and analyse user feedback"
   ]
  },
  {
   "cell_type": "code",
   "execution_count": 8,
   "metadata": {},
   "outputs": [
    {
     "name": "stdout",
     "output_type": "stream",
     "text": [
      "Positive Feedback Count : 2\n",
      "User feedback:\n",
      "-Great service!\n",
      "-Very satisfied\n",
      "-Could be better\n",
      "-Excellent experience\n",
      "-No happy with the services\n"
     ]
    }
   ],
   "source": [
    "feedback = ['Great service!' , 'Very satisfied' , 'Could be better' ,\"Excellent experience\"]\n",
    "\n",
    "# Adding new feedback\n",
    "feedback.append(\"No happy with the services\")\n",
    "\n",
    "# Counting specific feedback\n",
    "positive_feedback_count = sum(1 for comment in feedback if 'great' in comment.lower() or 'excellent' in comment.lower())\n",
    "print(f\"Positive Feedback Count : {positive_feedback_count}\")\n",
    "\n",
    "# Printing all feedback \n",
    "print(\"User feedback:\")\n",
    "for comment in feedback:\n",
    "    print(f\"-{comment}\")\n"
   ]
  },
  {
   "cell_type": "code",
   "execution_count": null,
   "metadata": {},
   "outputs": [],
   "source": []
  }
 ],
 "metadata": {
  "kernelspec": {
   "display_name": "base",
   "language": "python",
   "name": "python3"
  },
  "language_info": {
   "codemirror_mode": {
    "name": "ipython",
    "version": 3
   },
   "file_extension": ".py",
   "mimetype": "text/x-python",
   "name": "python",
   "nbconvert_exporter": "python",
   "pygments_lexer": "ipython3",
   "version": "3.12.4"
  }
 },
 "nbformat": 4,
 "nbformat_minor": 2
}
