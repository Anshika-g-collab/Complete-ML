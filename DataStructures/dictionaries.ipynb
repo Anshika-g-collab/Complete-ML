{
 "cells": [
  {
   "cell_type": "markdown",
   "metadata": {},
   "source": [
    "# Dictionaries\n",
    "Dictionaries are unordered collections of items. They store data in key-value pairs. Keys must be unique and immutable (e.g., strings, numbers, or tuples), while values can be of any type.\n"
   ]
  },
  {
   "cell_type": "code",
   "execution_count": 2,
   "metadata": {},
   "outputs": [
    {
     "name": "stdout",
     "output_type": "stream",
     "text": [
      "<class 'dict'>\n"
     ]
    }
   ],
   "source": [
    "## creating dictionaries\n",
    "empty_dict = {}\n",
    "print(type(empty_dict))\n"
   ]
  },
  {
   "cell_type": "code",
   "execution_count": 3,
   "metadata": {},
   "outputs": [
    {
     "data": {
      "text/plain": [
       "{}"
      ]
     },
     "execution_count": 3,
     "metadata": {},
     "output_type": "execute_result"
    }
   ],
   "source": [
    "empty_dict = dict()\n",
    "empty_dict"
   ]
  },
  {
   "cell_type": "code",
   "execution_count": 4,
   "metadata": {},
   "outputs": [
    {
     "name": "stdout",
     "output_type": "stream",
     "text": [
      "{'name': 'Anshika', 'age': 18, 'grade': 'A'}\n"
     ]
    }
   ],
   "source": [
    "student = {'name' : \"Anshika\" ,\n",
    "           'age'  : 18,\n",
    "           'grade': 'A'\n",
    "           }\n",
    "\n",
    "print(student)"
   ]
  },
  {
   "cell_type": "code",
   "execution_count": 5,
   "metadata": {},
   "outputs": [
    {
     "name": "stdout",
     "output_type": "stream",
     "text": [
      "{'name': 'A', 'age': 18}\n"
     ]
    }
   ],
   "source": [
    "## single key is always used\n",
    "student = {'name' : \"Anshika\" ,\n",
    "           'age'  : 18,\n",
    "           'name': 'A'\n",
    "           }\n",
    "print(student)\n"
   ]
  },
  {
   "cell_type": "code",
   "execution_count": 6,
   "metadata": {},
   "outputs": [
    {
     "name": "stdout",
     "output_type": "stream",
     "text": [
      "A\n",
      "18\n",
      "A\n",
      "None\n",
      "Not available\n"
     ]
    }
   ],
   "source": [
    "## Accessing dictionary element\n",
    "student = {'name' : \"Anshika\" ,\n",
    "           'age'  : 18,\n",
    "           'grade': 'A'\n",
    "           }\n",
    "print(student['grade'])\n",
    "print(student['age'])\n",
    "\n",
    "## Accessing using get() method\n",
    "\n",
    "print(student.get('grade'))\n",
    "print(student.get('last_name'))\n",
    "print(student.get('last_name',\"Not available\")) # setting default value"
   ]
  },
  {
   "cell_type": "code",
   "execution_count": 7,
   "metadata": {},
   "outputs": [
    {
     "name": "stdout",
     "output_type": "stream",
     "text": [
      "{'name': 'Anshika', 'age': 18, 'grade': 'A'}\n"
     ]
    }
   ],
   "source": [
    "## Modifying Dictionary element\n",
    "## Dictionary are mutable , so you can add, update or delete elements\n",
    "\n",
    "print(student)"
   ]
  },
  {
   "cell_type": "code",
   "execution_count": 8,
   "metadata": {},
   "outputs": [
    {
     "name": "stdout",
     "output_type": "stream",
     "text": [
      "{'name': 'Anshika', 'age': 33, 'grade': 'A'}\n",
      "{'name': 'Anshika', 'age': 33, 'grade': 'A', 'country': 'India'}\n"
     ]
    }
   ],
   "source": [
    "student['age'] = 33 #updation\n",
    "print(student)\n",
    "\n",
    "student['country'] = 'India' # addition\n",
    "print(student)\n"
   ]
  },
  {
   "cell_type": "code",
   "execution_count": 9,
   "metadata": {},
   "outputs": [
    {
     "name": "stdout",
     "output_type": "stream",
     "text": [
      "{'name': 'Anshika', 'age': 33, 'country': 'India'}\n"
     ]
    }
   ],
   "source": [
    "# delete key and value pair\n",
    "del student['grade']\n",
    "print(student)"
   ]
  },
  {
   "cell_type": "code",
   "execution_count": 10,
   "metadata": {},
   "outputs": [
    {
     "name": "stdout",
     "output_type": "stream",
     "text": [
      "dict_keys(['name', 'age', 'country'])\n",
      "dict_values(['Anshika', 33, 'India'])\n",
      "dict_items([('name', 'Anshika'), ('age', 33), ('country', 'India')])\n"
     ]
    }
   ],
   "source": [
    "## Dictionary methods\n",
    "\n",
    "keys = student.keys()# get all the keys\n",
    "print(keys)\n",
    "values = student.values() # get all values\n",
    "print(values)\n",
    "\n",
    "items = student.items() # get all key value pairs\n",
    "print(items)\n"
   ]
  },
  {
   "cell_type": "code",
   "execution_count": 11,
   "metadata": {},
   "outputs": [
    {
     "name": "stdout",
     "output_type": "stream",
     "text": [
      "{'name': 'Anshika', 'age': 33, 'country': 'India'}\n",
      "{'name': 'Anshika', 'age': 33, 'country': 'India'}\n"
     ]
    }
   ],
   "source": [
    "## shallow copy \n",
    "student_copy = student\n",
    "print(student)\n",
    "print(student_copy)"
   ]
  },
  {
   "cell_type": "code",
   "execution_count": 12,
   "metadata": {},
   "outputs": [
    {
     "name": "stdout",
     "output_type": "stream",
     "text": [
      "{'name': 'Anshika2', 'age': 33, 'country': 'India'}\n",
      "{'name': 'Anshika2', 'age': 33, 'country': 'India'}\n"
     ]
    }
   ],
   "source": [
    "student['name'] = 'Anshika2'\n",
    "print(student)\n",
    "print(student_copy)"
   ]
  },
  {
   "cell_type": "code",
   "execution_count": 13,
   "metadata": {},
   "outputs": [
    {
     "name": "stdout",
     "output_type": "stream",
     "text": [
      "{'name': 'Anshika2', 'age': 33, 'country': 'India'}\n",
      "{'name': 'Anshika2', 'age': 33, 'country': 'India'}\n"
     ]
    }
   ],
   "source": [
    "student_copy1 = student.copy() ## shallow copy = allocate different memory\n",
    "print(student_copy1)\n",
    "print(student)"
   ]
  },
  {
   "cell_type": "code",
   "execution_count": 14,
   "metadata": {},
   "outputs": [
    {
     "name": "stdout",
     "output_type": "stream",
     "text": [
      "{'name': 'Anshika2', 'age': 33, 'country': 'India'}\n",
      "{'name': 'anshika3', 'age': 33, 'country': 'India'}\n"
     ]
    }
   ],
   "source": [
    "## shallow copy allocates different memory locations , so when we make changes in one copy , it doesn't reflects in another\n",
    "\n",
    "student['name'] = \"anshika3\"\n",
    "print(student_copy1)\n",
    "print(student)"
   ]
  },
  {
   "cell_type": "code",
   "execution_count": 16,
   "metadata": {},
   "outputs": [
    {
     "name": "stdout",
     "output_type": "stream",
     "text": [
      "name\n",
      "age\n",
      "country\n"
     ]
    }
   ],
   "source": [
    "### Iterating over dictionaries\n",
    "## you can use loops to iterate over dictionaries , keys , values, or items\n",
    "\n",
    "## Iterating over keys\n",
    "for keys in student.keys():\n",
    "    print(keys)"
   ]
  },
  {
   "cell_type": "code",
   "execution_count": 18,
   "metadata": {},
   "outputs": [
    {
     "name": "stdout",
     "output_type": "stream",
     "text": [
      "anshika3\n",
      "33\n",
      "India\n"
     ]
    }
   ],
   "source": [
    "## Iterate over values\n",
    "for values in student.values():\n",
    "    print(values)\n"
   ]
  },
  {
   "cell_type": "code",
   "execution_count": null,
   "metadata": {},
   "outputs": [
    {
     "name": "stdout",
     "output_type": "stream",
     "text": [
      "name : India\n",
      "age : India\n",
      "country : India\n"
     ]
    }
   ],
   "source": [
    "## Iterating over items\n",
    "\n",
    "for key,value in student.items():\n",
    "    print(f\"{key} : {values}\")"
   ]
  },
  {
   "cell_type": "code",
   "execution_count": 21,
   "metadata": {},
   "outputs": [
    {
     "name": "stdout",
     "output_type": "stream",
     "text": [
      "{'student1': {'name': 'Doremon', 'age': '18'}, 'student2': {'name': 'Nobita', 'age': '15'}}\n"
     ]
    }
   ],
   "source": [
    "## Nested Dictionaries\n",
    "Students = {\n",
    "    \"student1\" : {'name' : 'Doremon' , 'age' : '18'},\n",
    "    'student2' : {'name' : \"Nobita\" , 'age' : '15'}\n",
    "\n",
    "}\n",
    "print(Students)"
   ]
  },
  {
   "cell_type": "code",
   "execution_count": 22,
   "metadata": {},
   "outputs": [
    {
     "name": "stdout",
     "output_type": "stream",
     "text": [
      "{'name': 'Nobita', 'age': '15'}\n"
     ]
    }
   ],
   "source": [
    "print(Students['student2'])"
   ]
  },
  {
   "cell_type": "code",
   "execution_count": 23,
   "metadata": {},
   "outputs": [
    {
     "name": "stdout",
     "output_type": "stream",
     "text": [
      "Nobita\n"
     ]
    }
   ],
   "source": [
    "print(Students['student2']['name'])"
   ]
  },
  {
   "cell_type": "code",
   "execution_count": 26,
   "metadata": {},
   "outputs": [
    {
     "name": "stdout",
     "output_type": "stream",
     "text": [
      "student1:{'name': 'Doremon', 'age': '18'}\n",
      "name:Doremon\n",
      "age:18\n",
      "student2:{'name': 'Nobita', 'age': '15'}\n",
      "name:Nobita\n",
      "age:15\n"
     ]
    }
   ],
   "source": [
    "## Iterating over nested dictionaries\n",
    "\n",
    "for student_id,student_info in Students.items():\n",
    "    print(f\"{student_id}:{student_info}\")\n",
    "    for key,value in student_info.items():\n",
    "        print(f\"{key}:{value}\")"
   ]
  },
  {
   "cell_type": "code",
   "execution_count": null,
   "metadata": {},
   "outputs": [
    {
     "name": "stdout",
     "output_type": "stream",
     "text": [
      "{0: 0, 1: 1, 2: 4, 3: 9, 4: 16}\n"
     ]
    }
   ],
   "source": [
    "### Dictionary comprehension\n",
    "          #key:value\n",
    "squares = {x:x**2 for x in range(5)}\n",
    "print(squares)\n"
   ]
  },
  {
   "cell_type": "code",
   "execution_count": 29,
   "metadata": {},
   "outputs": [
    {
     "name": "stdout",
     "output_type": "stream",
     "text": [
      "{0: 0, 2: 4, 4: 16, 6: 36, 8: 64}\n"
     ]
    }
   ],
   "source": [
    "## Conditional dictionary comprehension\n",
    "\n",
    "evens = {x:x**2  for x in range(10) if x%2==0}\n",
    "print(evens)"
   ]
  },
  {
   "cell_type": "code",
   "execution_count": 30,
   "metadata": {},
   "outputs": [
    {
     "name": "stdout",
     "output_type": "stream",
     "text": [
      "{1: 1, 2: 1, 3: 3, 4: 4}\n"
     ]
    }
   ],
   "source": [
    "## Practial examples\n",
    "## Use a dictionanry to count the frequency of elements in list\n",
    "\n",
    "numbers = [1,2,3,3,3,4,4,4,4]\n",
    "frequency = {}\n",
    "\n",
    "for number in numbers:\n",
    "    if number in frequency:\n",
    "        frequency[number]+=1\n",
    "    else:\n",
    "        frequency[number]=1\n",
    "print(frequency)"
   ]
  },
  {
   "cell_type": "code",
   "execution_count": 32,
   "metadata": {},
   "outputs": [
    {
     "name": "stdout",
     "output_type": "stream",
     "text": [
      "{'a': 1, 'b': 3, 'c': 4}\n"
     ]
    }
   ],
   "source": [
    "## Merge two dictionaries into 1\n",
    "\n",
    "dict1 = {'a':1,'b':2}\n",
    "dict2 = {\"b\" : 3,\"c\":4}\n",
    "merged_dict = {**dict1,**dict2}# keyword arguments\n",
    "print(merged_dict)"
   ]
  },
  {
   "cell_type": "code",
   "execution_count": null,
   "metadata": {},
   "outputs": [],
   "source": []
  }
 ],
 "metadata": {
  "kernelspec": {
   "display_name": "base",
   "language": "python",
   "name": "python3"
  },
  "language_info": {
   "codemirror_mode": {
    "name": "ipython",
    "version": 3
   },
   "file_extension": ".py",
   "mimetype": "text/x-python",
   "name": "python",
   "nbconvert_exporter": "python",
   "pygments_lexer": "ipython3",
   "version": "3.12.4"
  }
 },
 "nbformat": 4,
 "nbformat_minor": 2
}
