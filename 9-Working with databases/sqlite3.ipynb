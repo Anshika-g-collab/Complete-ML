{
 "cells": [
  {
   "cell_type": "markdown",
   "metadata": {},
   "source": [
    "## SQLite"
   ]
  },
  {
   "cell_type": "code",
   "execution_count": 1,
   "metadata": {},
   "outputs": [],
   "source": [
    "import sqlite3"
   ]
  },
  {
   "cell_type": "code",
   "execution_count": 2,
   "metadata": {},
   "outputs": [],
   "source": [
    "connection = sqlite3.connect('example.db')"
   ]
  },
  {
   "cell_type": "code",
   "execution_count": 3,
   "metadata": {},
   "outputs": [],
   "source": [
    "cursor = connection.cursor()"
   ]
  },
  {
   "cell_type": "code",
   "execution_count": 4,
   "metadata": {},
   "outputs": [],
   "source": [
    "## Create a Table\n",
    "\n",
    "cursor.execute(\n",
    "    '''\n",
    "Create  Table If Not Exists employees(\n",
    "    id Integer Primary Key,\n",
    "    name Text Not Null,\n",
    "    age Integer,\n",
    "    department text\n",
    ")\n",
    "'''\n",
    ")\n",
    "\n",
    "## Commit the changes\n",
    "connection. commit()"
   ]
  },
  {
   "cell_type": "code",
   "execution_count": 5,
   "metadata": {},
   "outputs": [
    {
     "data": {
      "text/plain": [
       "<sqlite3.Cursor at 0x2671d823e40>"
      ]
     },
     "execution_count": 5,
     "metadata": {},
     "output_type": "execute_result"
    }
   ],
   "source": [
    "cursor.execute(\n",
    "    '''\n",
    "Select * from employees\n",
    "'''\n",
    ")"
   ]
  },
  {
   "cell_type": "code",
   "execution_count": 6,
   "metadata": {},
   "outputs": [],
   "source": [
    "## Insert the data in sqlite table\n",
    "\n",
    "cursor.execute(\n",
    "'''\n",
    "Insert Into employees(name,age,department)\n",
    "            values('Anshika',18,'Data Scientist')\n",
    "'''\n",
    ")\n",
    "\n",
    "cursor.execute(\n",
    "'''\n",
    "Insert Into employees(name,age,department)\n",
    "            values('Minni',19,'Computer application')\n",
    "'''\n",
    ")\n",
    "\n",
    "cursor.execute(\n",
    "'''\n",
    "Insert Into employees(name,age,department)\n",
    "            values('Palak',19,'Finance')\n",
    "'''\n",
    ")\n",
    "\n",
    "# Commit changes\n",
    "connection.commit()"
   ]
  },
  {
   "cell_type": "code",
   "execution_count": 7,
   "metadata": {},
   "outputs": [
    {
     "name": "stdout",
     "output_type": "stream",
     "text": [
      "(1, 'Anshika', 18, 'Data Scientist')\n",
      "(2, 'Minni', 19, 'Computer application')\n",
      "(3, 'Palak', 19, 'Finance')\n"
     ]
    }
   ],
   "source": [
    "# Query the data from table\n",
    "cursor.execute(\"Select * from employees\")\n",
    "rows = cursor.fetchall()\n",
    "\n",
    "# Print queried data\n",
    "for row in rows:\n",
    "    print(row)\n"
   ]
  },
  {
   "cell_type": "code",
   "execution_count": 8,
   "metadata": {},
   "outputs": [],
   "source": [
    "## update the database\n",
    "cursor.execute(\n",
    "    '''\n",
    "UPDATE employees\n",
    "Set age=20\n",
    "where name = 'Anshika'   \n",
    "\n",
    "'''\n",
    ")\n",
    "connection.commit()"
   ]
  },
  {
   "cell_type": "code",
   "execution_count": 9,
   "metadata": {},
   "outputs": [
    {
     "name": "stdout",
     "output_type": "stream",
     "text": [
      "(1, 'Anshika', 20, 'Data Scientist')\n",
      "(2, 'Minni', 19, 'Computer application')\n",
      "(3, 'Palak', 19, 'Finance')\n"
     ]
    }
   ],
   "source": [
    "cursor.execute(\"Select * from employees\")\n",
    "rows = cursor.fetchall()\n",
    "\n",
    "# Print queried data\n",
    "for row in rows:\n",
    "    print(row)"
   ]
  },
  {
   "cell_type": "code",
   "execution_count": 10,
   "metadata": {},
   "outputs": [
    {
     "name": "stdout",
     "output_type": "stream",
     "text": [
      "(2, 'Minni', 19, 'Computer application')\n",
      "(3, 'Palak', 19, 'Finance')\n"
     ]
    }
   ],
   "source": [
    "## Delete the data form the table\n",
    "\n",
    "cursor.execute(\n",
    "    ''' \n",
    "    DELETE from employees\n",
    "    where name='Anshika'\n",
    "'''\n",
    "\n",
    ")\n",
    "cursor.execute(\"Select * from employees\")\n",
    "rows = cursor.fetchall()\n",
    "\n",
    "# Print queried data\n",
    "for row in rows:\n",
    "    print(row)\n"
   ]
  },
  {
   "cell_type": "code",
   "execution_count": 11,
   "metadata": {},
   "outputs": [],
   "source": [
    "connection.close()"
   ]
  },
  {
   "cell_type": "code",
   "execution_count": 12,
   "metadata": {},
   "outputs": [
    {
     "name": "stdout",
     "output_type": "stream",
     "text": [
      "(1, '2025-01-01', 'Product1', 100, 'North')\n",
      "(2, '2025-01-02', 'Product2', 200, 'South')\n",
      "(3, '2025-01-03', 'Product3', 150, 'East')\n",
      "(4, '2025-01-04', 'Product4', 200, 'West')\n",
      "(5, '2025-01-05', 'Product5', 300, 'North')\n"
     ]
    }
   ],
   "source": [
    "##Working with sales data.\n",
    "connection = sqlite3.connect('sales_data.db')\n",
    "cursor = connection.cursor()\n",
    "\n",
    "## Create  table for sales data\n",
    "cursor.execute(\n",
    "''' \n",
    "CREATE TABLE IF NOT EXISTS sales(\n",
    "id INTEGER PRIMARY KEY,\n",
    "date TEXT NOT NULL,\n",
    "product TEXT NOT NULL,\n",
    "sales INTEGER,\n",
    "region TEXT\n",
    ")\n",
    "'''\n",
    "\n",
    ")\n",
    "\n",
    "## Insert Sales data\n",
    "sales_data=[\n",
    "    ('2025-01-01','Product1',100,'North'),\n",
    "    ('2025-01-02','Product2',200,'South'),\n",
    "    ('2025-01-03','Product3',150,'East'),\n",
    "    ('2025-01-04','Product4',200,'West'),\n",
    "    ('2025-01-05','Product5',300,'North')\n",
    "]\n",
    "\n",
    "cursor.executemany(\n",
    "    ''' \n",
    "Insert into sales(date,product,sales,region)\n",
    "values(?,?,?,?)\n",
    "''',sales_data\n",
    ")\n",
    "\n",
    "connection.commit()\n",
    "\n",
    "cursor.execute(\"Select * from sales\")\n",
    "rows = cursor.fetchall()\n",
    "\n",
    "# Print queried data\n",
    "for row in rows:\n",
    "    print(row)\n",
    "\n"
   ]
  },
  {
   "cell_type": "code",
   "execution_count": null,
   "metadata": {},
   "outputs": [],
   "source": [
    "# connection close\n",
    "connection.close()"
   ]
  }
 ],
 "metadata": {
  "kernelspec": {
   "display_name": "base",
   "language": "python",
   "name": "python3"
  },
  "language_info": {
   "codemirror_mode": {
    "name": "ipython",
    "version": 3
   },
   "file_extension": ".py",
   "mimetype": "text/x-python",
   "name": "python",
   "nbconvert_exporter": "python",
   "pygments_lexer": "ipython3",
   "version": "3.12.4"
  }
 },
 "nbformat": 4,
 "nbformat_minor": 2
}
