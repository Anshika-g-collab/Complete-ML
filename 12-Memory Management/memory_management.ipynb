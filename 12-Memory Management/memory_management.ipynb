{
 "cells": [
  {
   "cell_type": "markdown",
   "id": "694aa2e0",
   "metadata": {},
   "source": [
    "## Python Memory Management\n",
    "Memory management in Python involves a combination of automatic garbage collection, reference counting,and various internal optimisations to efficiently manage maemory allocation and deallocation. Understanding these mechanisims can help developers write more efficient ans robust applications.\n",
    "\n",
    "1. Key concepts in python memory management.\n",
    "2. Memory allocation and deallocation\n",
    "3. Reference Counting\n",
    "4. Garbage collection\n",
    "5. The gc module\n",
    "6. Memory management best practices \n"
   ]
  },
  {
   "cell_type": "markdown",
   "id": "81a59829",
   "metadata": {},
   "source": [
    "### Reference Counting\n",
    "Reference counting in python is the primary method python uses to manage memory . Each object in python maintains a count of references pointing to it. When the reference count drops to zero , the memory occupied by the object is deallocated."
   ]
  },
  {
   "cell_type": "code",
   "execution_count": null,
   "id": "45b553a5",
   "metadata": {},
   "outputs": [
    {
     "name": "stdout",
     "output_type": "stream",
     "text": [
      "2\n"
     ]
    }
   ],
   "source": [
    "import sys #system config\n",
    "\n",
    "a=[]\n",
    "## (one reference from 'a' and one form getrefcount())\n",
    "print(sys.getrefcount(a))"
   ]
  },
  {
   "cell_type": "code",
   "execution_count": 3,
   "id": "d956f2eb",
   "metadata": {},
   "outputs": [
    {
     "name": "stdout",
     "output_type": "stream",
     "text": [
      "3\n"
     ]
    }
   ],
   "source": [
    "b = a\n",
    "print(sys.getrefcount(b))"
   ]
  },
  {
   "cell_type": "markdown",
   "id": "09c765ee",
   "metadata": {},
   "source": [
    "### Garbage Collection\n",
    "Python includes a cyclic garbage collector to handle reference cycles. Reference cycles occurs when objects reference each other , preventing their reference counts from reaching 0."
   ]
  },
  {
   "cell_type": "code",
   "execution_count": 4,
   "id": "0dd892dc",
   "metadata": {},
   "outputs": [
    {
     "data": {
      "text/plain": [
       "555"
      ]
     },
     "execution_count": 4,
     "metadata": {},
     "output_type": "execute_result"
    }
   ],
   "source": [
    "import gc\n",
    "## enable garbage collector\n",
    "gc.enable()\n",
    "gc.collect()"
   ]
  },
  {
   "cell_type": "code",
   "execution_count": 5,
   "id": "ad3caa41",
   "metadata": {},
   "outputs": [
    {
     "name": "stdout",
     "output_type": "stream",
     "text": [
      "[{'collections': 263, 'collected': 1459, 'uncollectable': 0}, {'collections': 23, 'collected': 140, 'uncollectable': 0}, {'collections': 3, 'collected': 629, 'uncollectable': 0}]\n"
     ]
    }
   ],
   "source": [
    "## get garbage collection stats\n",
    "print(gc.get_stats())"
   ]
  },
  {
   "cell_type": "code",
   "execution_count": 6,
   "id": "822bffa7",
   "metadata": {},
   "outputs": [
    {
     "name": "stdout",
     "output_type": "stream",
     "text": [
      "[]\n"
     ]
    }
   ],
   "source": [
    "## get unreachable objects\n",
    "print(gc.garbage)"
   ]
  },
  {
   "cell_type": "markdown",
   "id": "aea45e64",
   "metadata": {},
   "source": [
    "### Memory Management good practices.\n",
    "\n",
    "1. Use local variables : Local variables have a shorter lifespan and are freed sooner than global variables. \n",
    "2. Avoid circular references : Circular references can lead to memory leaks if not properly managed.\n",
    "3. Use generators : Generators produce items one at a time and only keep one item in memory at a time, making them memory efficient.\n",
    "4. Explicitly delete objects : Use the del statement to delete variables and objects explicitly .\n",
    "5. Profile memory usage : Use memory profiling tools like tracemalloc and memory_profiler to identify memory leaks and optimize memory usage."
   ]
  },
  {
   "cell_type": "code",
   "execution_count": null,
   "id": "a145547c",
   "metadata": {},
   "outputs": [
    {
     "name": "stdout",
     "output_type": "stream",
     "text": [
      "Object obj1 created!\n",
      "Object obj2 created!\n",
      "Object obj1 deleted!\n",
      "Object obj2 deleted!\n"
     ]
    },
    {
     "data": {
      "text/plain": [
       "9"
      ]
     },
     "execution_count": 17,
     "metadata": {},
     "output_type": "execute_result"
    }
   ],
   "source": [
    "## handling reference cycle\n",
    "\n",
    "import gc\n",
    "class MyObject:\n",
    "    def __init__(self,name):\n",
    "        self.name=name\n",
    "        print(f\"Object {self.name} created!\")\n",
    "\n",
    "    def __del__(self):\n",
    "        print(f\"Object {self.name} deleted!\")\n",
    "\n",
    "\n",
    "#create circular reference \n",
    "obj1 = MyObject(\"obj1\")\n",
    "obj2 = MyObject(\"obj2\")\n",
    "\n",
    "obj1.ref = obj2\n",
    "obj2.ref = obj1\n",
    "\n",
    "del obj1\n",
    "del obj2\n",
    "\n",
    "## manually trigger garbage collector\n",
    "gc.collect()\n"
   ]
  },
  {
   "cell_type": "code",
   "execution_count": 18,
   "id": "097dd4b3",
   "metadata": {},
   "outputs": [
    {
     "name": "stdout",
     "output_type": "stream",
     "text": [
      "0\n",
      "1\n",
      "2\n",
      "3\n",
      "4\n",
      "5\n",
      "6\n",
      "7\n",
      "8\n",
      "9\n",
      "10\n",
      "11\n"
     ]
    }
   ],
   "source": [
    "## Generators -  for memory efficiency \n",
    "# Generators allow you to produce items one at a time , using memory efficiently by only keeping one item in a memory at a time .\n",
    "\n",
    "def generate_numbers(n):\n",
    "    for i in range(n):\n",
    "        yield i\n",
    "\n",
    "## using generator\n",
    "for num in generate_numbers(10000):\n",
    "    print(num)\n",
    "    if num>10:\n",
    "        break\n"
   ]
  },
  {
   "cell_type": "code",
   "execution_count": 19,
   "id": "b0aa0efa",
   "metadata": {},
   "outputs": [],
   "source": [
    "## Profiling memory usage wuth tracemalloc\n",
    "\n",
    "import tracemalloc\n",
    "def create_list():\n",
    "    return [i for i in range(10000)]\n",
    "\n",
    "def main():\n",
    "    tracemalloc.start()\n",
    "\n",
    "    create_list()\n",
    "\n",
    "    snapshot = tracemalloc.take_snapshot()\n",
    "    top_stats = snapshot.statistics('lineno')\n",
    "\n",
    "    print(\"[Top 10]\")\n",
    "    for stat in top_stats[::]:\n",
    "        print(stat)"
   ]
  },
  {
   "cell_type": "code",
   "execution_count": 20,
   "id": "4ccfda9e",
   "metadata": {},
   "outputs": [
    {
     "name": "stdout",
     "output_type": "stream",
     "text": [
      "[Top 10]\n",
      "c:\\Users\\anshi\\anaconda3\\Anshika\\Lib\\site-packages\\ipykernel\\iostream.py:286: size=208 B, count=3, average=69 B\n",
      "c:\\Users\\anshi\\anaconda3\\Anshika\\Lib\\site-packages\\ipykernel\\iostream.py:275: size=208 B, count=3, average=69 B\n",
      "c:\\Users\\anshi\\anaconda3\\Anshika\\Lib\\site-packages\\zmq\\sugar\\socket.py:750: size=96 B, count=2, average=48 B\n",
      "c:\\Users\\anshi\\anaconda3\\Anshika\\Lib\\tracemalloc.py:551: size=72 B, count=1, average=72 B\n",
      "C:\\Users\\anshi\\AppData\\Local\\Temp\\ipykernel_10848\\200303062.py:4: size=72 B, count=1, average=72 B\n"
     ]
    }
   ],
   "source": [
    "main()"
   ]
  },
  {
   "cell_type": "code",
   "execution_count": null,
   "id": "7b67a03a",
   "metadata": {},
   "outputs": [],
   "source": []
  }
 ],
 "metadata": {
  "kernelspec": {
   "display_name": "base",
   "language": "python",
   "name": "python3"
  },
  "language_info": {
   "codemirror_mode": {
    "name": "ipython",
    "version": 3
   },
   "file_extension": ".py",
   "mimetype": "text/x-python",
   "name": "python",
   "nbconvert_exporter": "python",
   "pygments_lexer": "ipython3",
   "version": "3.12.7"
  }
 },
 "nbformat": 4,
 "nbformat_minor": 5
}
