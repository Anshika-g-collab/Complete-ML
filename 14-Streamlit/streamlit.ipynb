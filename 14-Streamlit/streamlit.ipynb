{
 "cells": [
  {
   "cell_type": "markdown",
   "id": "523dc51f",
   "metadata": {},
   "source": [
    "## Introduction to Steamlit\n",
    "Streamlit is an open-source app framework for Machine Learning and data Science projects . It allows you to create beautiful web applications for your machine learning and data science projects with simple python scripts."
   ]
  },
  {
   "cell_type": "markdown",
   "id": "2a69a311",
   "metadata": {},
   "source": []
  }
 ],
 "metadata": {
  "language_info": {
   "name": "python"
  }
 },
 "nbformat": 4,
 "nbformat_minor": 5
}
