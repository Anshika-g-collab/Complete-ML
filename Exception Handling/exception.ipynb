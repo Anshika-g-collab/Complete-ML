{
 "cells": [
  {
   "cell_type": "markdown",
   "metadata": {},
   "source": [
    "### Understanding Exceptions\n",
    "Exception handling in python allows you to handle errors gracefully and take corrective actions without stopping the execution of program. "
   ]
  },
  {
   "cell_type": "markdown",
   "metadata": {},
   "source": [
    "#### What are Exceptions??\n",
    "Exceptions are events that disrupt the normal flow of program. They occur when an error is encountered during  program execution . Common exceptions include:\n",
    "\n",
    "* ZeroDivisionError = Dividing by zero\n",
    "* FileNotFound = File not found\n",
    "* ValueError = Invalid value\n",
    "* TypeError = Invalid Type\n"
   ]
  },
  {
   "cell_type": "code",
   "execution_count": 2,
   "metadata": {},
   "outputs": [
    {
     "name": "stdout",
     "output_type": "stream",
     "text": [
      "The variable is not been assigned\n"
     ]
    }
   ],
   "source": [
    "## Exception try,except block\n",
    "\n",
    "try:\n",
    "    a=b\n",
    "except:\n",
    "    print(\"The variable is not been assigned\")"
   ]
  },
  {
   "cell_type": "code",
   "execution_count": 3,
   "metadata": {},
   "outputs": [
    {
     "name": "stdout",
     "output_type": "stream",
     "text": [
      "name 'b' is not defined\n"
     ]
    }
   ],
   "source": [
    "try:\n",
    "    a=b\n",
    "except NameError as ex:\n",
    "    print(ex)"
   ]
  },
  {
   "cell_type": "code",
   "execution_count": 5,
   "metadata": {},
   "outputs": [
    {
     "name": "stdout",
     "output_type": "stream",
     "text": [
      "division by zero is not permitted.\n"
     ]
    }
   ],
   "source": [
    "try:\n",
    "    a/0\n",
    "except ZeroDivisionError as ex:\n",
    "    print(ex,\"is not permitted.\")"
   ]
  },
  {
   "cell_type": "code",
   "execution_count": 14,
   "metadata": {},
   "outputs": [
    {
     "name": "stdout",
     "output_type": "stream",
     "text": [
      "name 'b' is not defined\n",
      "Main exception got caught here!\n"
     ]
    }
   ],
   "source": [
    "try:\n",
    "    a/2\n",
    "    a=b\n",
    "# except ZeroDivisionError as ex:\n",
    "#     print(ex,\"is not permitted.\")\n",
    "except Exception as ex1: ## All exceptions are derived form 'Exception' base class\n",
    "    print(ex1)\n",
    "    print(\"Main exception got caught here!\")"
   ]
  },
  {
   "cell_type": "code",
   "execution_count": 17,
   "metadata": {},
   "outputs": [
    {
     "name": "stdout",
     "output_type": "stream",
     "text": [
      "This is not a valid number.\n"
     ]
    }
   ],
   "source": [
    "try:\n",
    "    num = int(input(\"Enter a Number: \"))\n",
    "    result = 10/num\n",
    "except ValueError:\n",
    "    print(\"This is not a valid number.\")\n",
    "except ZeroDivisionError:\n",
    "    print(\"Enter denominator greater than 0\")\n",
    "except Exception as ex:\n",
    "    print(ex)"
   ]
  },
  {
   "cell_type": "code",
   "execution_count": null,
   "metadata": {},
   "outputs": [
    {
     "name": "stdout",
     "output_type": "stream",
     "text": [
      "The result is 1.0\n"
     ]
    }
   ],
   "source": [
    "### try,except,else block\n",
    "try:\n",
    "    num = int(input(\"Enter a number:\"))\n",
    "    result = 10/num\n",
    "except ValueError:\n",
    "    print(\"That's not a valid number.\")\n",
    "except ZeroDivisionError:\n",
    "    print(\"You can't divide by zero.\")\n",
    "except Exception as ex:\n",
    "    print(ex)\n",
    "else: # If i am not getting error\n",
    "    print(f'The result is {result}')\n"
   ]
  },
  {
   "cell_type": "code",
   "execution_count": 20,
   "metadata": {},
   "outputs": [
    {
     "name": "stdout",
     "output_type": "stream",
     "text": [
      "The result is 0.1\n",
      "Execution Completed\n"
     ]
    }
   ],
   "source": [
    "try:\n",
    "    num = int(input(\"Enter a number:\"))\n",
    "    result = 10/num\n",
    "except ValueError:\n",
    "    print(\"That's not a valid number.\")\n",
    "except ZeroDivisionError:\n",
    "    print(\"You can't divide by zero.\")\n",
    "except Exception as ex:\n",
    "    print(ex)\n",
    "else: # If i am not getting error\n",
    "    print(f'The result is {result}')\n",
    "finally:\n",
    "    print(\"Execution Completed\") # Wheater there is error or not , it has to be executed .\n"
   ]
  },
  {
   "cell_type": "code",
   "execution_count": null,
   "metadata": {},
   "outputs": [
    {
     "name": "stdout",
     "output_type": "stream",
     "text": [
      "The file does not exists\n"
     ]
    }
   ],
   "source": [
    "### File Handling and Exception handling\n",
    "try:\n",
    "    file = open('example.txt','r')\n",
    "    content = file.read()\n",
    "    print(content)\n",
    "except FileNotFoundError:\n",
    "    print(\"The file does not exists\")\n",
    "finally:\n",
    "    if 'file' in locals() and not file.closed():\n",
    "        file.close()\n",
    "        print(\"File closed\")"
   ]
  },
  {
   "cell_type": "code",
   "execution_count": null,
   "metadata": {},
   "outputs": [],
   "source": []
  }
 ],
 "metadata": {
  "kernelspec": {
   "display_name": "base",
   "language": "python",
   "name": "python3"
  },
  "language_info": {
   "codemirror_mode": {
    "name": "ipython",
    "version": 3
   },
   "file_extension": ".py",
   "mimetype": "text/x-python",
   "name": "python",
   "nbconvert_exporter": "python",
   "pygments_lexer": "ipython3",
   "version": "3.12.4"
  }
 },
 "nbformat": 4,
 "nbformat_minor": 2
}
