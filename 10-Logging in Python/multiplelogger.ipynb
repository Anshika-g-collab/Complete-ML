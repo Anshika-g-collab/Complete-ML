{
 "cells": [
  {
   "cell_type": "markdown",
   "id": "a37079ac",
   "metadata": {},
   "source": [
    "### Logging with multiple loggers\n"
   ]
  },
  {
   "cell_type": "markdown",
   "id": "d26f1af4",
   "metadata": {},
   "source": [
    "We can create multiple loggers for different parts of our application."
   ]
  },
  {
   "cell_type": "code",
   "execution_count": 1,
   "id": "4424c201",
   "metadata": {},
   "outputs": [],
   "source": [
    "import logging\n",
    "## create a logger for module 1\n",
    "logger1 = logging.getLogger(\"modeule1\")\n",
    "logger1.setLevel(logging.DEBUG)\n",
    "\n",
    "## create a logger for module2\n",
    "logger2 = logging.getLogger(\"Modeule2\")\n",
    "logger2.setLevel(logging.WARNING)\n",
    "\n",
    "## Config logginh settings\n",
    "logging.basicConfig(\n",
    "    level = logging.DEBUG,\n",
    "    format = '%(asctime)s - %(name)s - %(message)s',\n",
    "    datefmt = \"%Y-%m-%d %H:%M:%S\"\n",
    "    )\n"
   ]
  },
  {
   "cell_type": "code",
   "execution_count": 2,
   "id": "7ccfa11a",
   "metadata": {},
   "outputs": [
    {
     "name": "stderr",
     "output_type": "stream",
     "text": [
      "2025-04-30 15:54:23 - modeule1 - This is debug message from logger1 to module1\n",
      "2025-04-30 15:54:23 - Modeule2 - This is a warning message for module2\n"
     ]
    }
   ],
   "source": [
    "## log messages with different loggers\n",
    "logger1.debug(\"This is debug message from logger1 to module1\")\n",
    "logger2.warning(\"This is a warning message for module2\")\n"
   ]
  },
  {
   "cell_type": "code",
   "execution_count": null,
   "id": "9693c5ea",
   "metadata": {},
   "outputs": [],
   "source": []
  }
 ],
 "metadata": {
  "kernelspec": {
   "display_name": "base",
   "language": "python",
   "name": "python3"
  },
  "language_info": {
   "codemirror_mode": {
    "name": "ipython",
    "version": 3
   },
   "file_extension": ".py",
   "mimetype": "text/x-python",
   "name": "python",
   "nbconvert_exporter": "python",
   "pygments_lexer": "ipython3",
   "version": "3.12.4"
  }
 },
 "nbformat": 4,
 "nbformat_minor": 5
}
