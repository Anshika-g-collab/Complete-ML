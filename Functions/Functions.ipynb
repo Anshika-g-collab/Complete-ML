{
 "cells": [
  {
   "cell_type": "markdown",
   "metadata": {},
   "source": [
    "## Functions:\n",
    "A function is a block of code that performs a specific task. Functions help in organizing code , reusing code, and improving readability."
   ]
  },
  {
   "cell_type": "markdown",
   "metadata": {},
   "source": [
    "##"
   ]
  },
  {
   "cell_type": "code",
   "execution_count": null,
   "metadata": {},
   "outputs": [],
   "source": [
    "## Syntax\n",
    "def  function_name(parameters):\n",
    "    \"\"\"Docstring\"\"\"\n",
    "    #function body\n",
    "    return expression"
   ]
  },
  {
   "cell_type": "code",
   "execution_count": 1,
   "metadata": {},
   "outputs": [
    {
     "name": "stdout",
     "output_type": "stream",
     "text": [
      "The number is even\n"
     ]
    }
   ],
   "source": [
    "## Why Fucntions?\n",
    "\n",
    "num=24\n",
    "if num%2==0:\n",
    "    print(\"The number is even\")\n",
    "else:\n",
    "    print(\"The number is odd\")"
   ]
  },
  {
   "cell_type": "code",
   "execution_count": null,
   "metadata": {},
   "outputs": [
    {
     "name": "stdout",
     "output_type": "stream",
     "text": [
      "The number is even\n",
      "The number is odd\n",
      "The number is odd\n"
     ]
    }
   ],
   "source": [
    "# improving readability\n",
    "# code resuability\n",
    "def even_or_odd(num):\n",
    "    \"\"\"This function finds even or odd\"\"\"\n",
    "    if num%2==0:\n",
    "        print(\"The number is even\")\n",
    "    else:\n",
    "        print(\"The number is odd\")\n",
    "\n",
    "even_or_odd(num=26)\n",
    "even_or_odd(num=9)\n",
    "even_or_odd(num=59)"
   ]
  },
  {
   "cell_type": "code",
   "execution_count": null,
   "metadata": {},
   "outputs": [
    {
     "data": {
      "text/plain": [
       "190"
      ]
     },
     "execution_count": 4,
     "metadata": {},
     "output_type": "execute_result"
    }
   ],
   "source": [
    "# Function with multiple parameter\n",
    "\n",
    "def add(a,b):\n",
    "    '''This function adds two number'''\n",
    "    return a+b\n",
    "add(90,100)\n"
   ]
  },
  {
   "cell_type": "code",
   "execution_count": null,
   "metadata": {},
   "outputs": [
    {
     "name": "stdout",
     "output_type": "stream",
     "text": [
      "Hello guest! Welcome to the paradise\n",
      "Hello Anshu! Welcome to the paradise\n"
     ]
    }
   ],
   "source": [
    "## Default parameters\n",
    "\n",
    "def greet(name=\"guest\"):\n",
    "    print(f\"Hello {name}! Welcome to the paradise\")\n",
    "\n",
    "greet()\n",
    "\n",
    "def greet(name=\"guest\"):\n",
    "    print(f\"Hello {name}! Welcome to the paradise\")\n",
    "\n",
    "greet('Anshu')"
   ]
  },
  {
   "cell_type": "code",
   "execution_count": 10,
   "metadata": {},
   "outputs": [
    {
     "name": "stdout",
     "output_type": "stream",
     "text": [
      "1\n",
      "2\n",
      "3\n",
      "4\n",
      "5\n",
      "56\n",
      "6\n",
      "78\n",
      "8\n"
     ]
    }
   ],
   "source": [
    "## Variable length arguments.\n",
    "## Positional and Keyword argument.\n",
    "\n",
    "#Positional args\n",
    "def print_numbers(*args):\n",
    "    for number in args:\n",
    "        print(number)\n",
    "print_numbers(1,2,3,4,5,56,6,78,8,)"
   ]
  },
  {
   "cell_type": "code",
   "execution_count": 11,
   "metadata": {},
   "outputs": [
    {
     "name": "stdout",
     "output_type": "stream",
     "text": [
      "name:Anshika\n",
      "age:32\n",
      "country:INDIA\n"
     ]
    }
   ],
   "source": [
    "### Keyword argument\n",
    "## args in key-value pairs\n",
    "def print_details(**kwargs):\n",
    "    for key,value in kwargs.items():\n",
    "        print(f\"{key}:{value}\")\n",
    "\n",
    "print_details(name='Anshika',age=\"32\",country = \"INDIA\")"
   ]
  },
  {
   "cell_type": "code",
   "execution_count": 13,
   "metadata": {},
   "outputs": [
    {
     "name": "stdout",
     "output_type": "stream",
     "text": [
      " Positional argument : 1\n",
      " Positional argument : 2\n",
      " Positional argument : 3\n",
      " Positional argument : 4\n",
      " Positional argument : 5\n",
      " Positional argument : 6\n",
      " Positional argument : 6\n",
      " Positional argument : 7\n",
      " Positional argument : 7\n",
      " Positional argument : 8\n",
      " Positional argument : 9\n",
      " Positional argument : 10\n",
      "name:Anshika\n",
      "age:32\n",
      "country:INDIA\n"
     ]
    }
   ],
   "source": [
    "def print_details(*args,**kwargs):\n",
    "    for val in args:\n",
    "        print(f\" Positional argument : {val}\")\n",
    "\n",
    "    for key,value in kwargs.items():\n",
    "        print(f\"{key}:{value}\")\n",
    "\n",
    "\n",
    "print_details(1,2,3,4,5,6,6,7,7,8,9,10,name='Anshika',age=\"32\",country = \"INDIA\")\n"
   ]
  },
  {
   "cell_type": "code",
   "execution_count": 14,
   "metadata": {},
   "outputs": [
    {
     "data": {
      "text/plain": [
       "20"
      ]
     },
     "execution_count": 14,
     "metadata": {},
     "output_type": "execute_result"
    }
   ],
   "source": [
    "## Return statement\n",
    "\n",
    "def multiply(a,b):\n",
    "    return a*b\n",
    "multiply(5,4)"
   ]
  },
  {
   "cell_type": "code",
   "execution_count": 15,
   "metadata": {},
   "outputs": [
    {
     "data": {
      "text/plain": [
       "(20, 5)"
      ]
     },
     "execution_count": 15,
     "metadata": {},
     "output_type": "execute_result"
    }
   ],
   "source": [
    "## Return multiple parameters\n",
    "def multiply(a,b):\n",
    "    return a*b,a\n",
    "multiply(5,4)"
   ]
  },
  {
   "cell_type": "code",
   "execution_count": null,
   "metadata": {},
   "outputs": [],
   "source": []
  }
 ],
 "metadata": {
  "kernelspec": {
   "display_name": "base",
   "language": "python",
   "name": "python3"
  },
  "language_info": {
   "codemirror_mode": {
    "name": "ipython",
    "version": 3
   },
   "file_extension": ".py",
   "mimetype": "text/x-python",
   "name": "python",
   "nbconvert_exporter": "python",
   "pygments_lexer": "ipython3",
   "version": "3.12.4"
  }
 },
 "nbformat": 4,
 "nbformat_minor": 2
}
