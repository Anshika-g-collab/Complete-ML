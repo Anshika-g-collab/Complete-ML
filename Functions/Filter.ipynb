{
 "cells": [
  {
   "cell_type": "markdown",
   "metadata": {},
   "source": [
    "## Filter()\n",
    "The filter() function constructs an iterator form elements of a iterable for which a function returns True.It is used to filter out items from a list (or any other iterable) based on a condition."
   ]
  },
  {
   "cell_type": "code",
   "execution_count": 2,
   "metadata": {},
   "outputs": [],
   "source": [
    "def even(num):\n",
    "    if num%2==0:\n",
    "        return True\n",
    "    \n",
    "even(45)"
   ]
  },
  {
   "cell_type": "code",
   "execution_count": 5,
   "metadata": {},
   "outputs": [
    {
     "name": "stdout",
     "output_type": "stream",
     "text": [
      "[2, 4, 6, 8, 10, 12]\n"
     ]
    }
   ],
   "source": [
    "lst  = [1,2,3,4,5,6,7,8,9,10,11,12]\n",
    "print(list(filter(even,lst)))"
   ]
  },
  {
   "cell_type": "code",
   "execution_count": 6,
   "metadata": {},
   "outputs": [
    {
     "name": "stdout",
     "output_type": "stream",
     "text": [
      "[6, 7, 8, 9]\n"
     ]
    }
   ],
   "source": [
    "## filter with lambda function\n",
    "\n",
    "numbers = [1,2,3,4,5,6,7,8,9]\n",
    "greater_than_five = list(filter(lambda x:x>5 , numbers))\n",
    "\n",
    "print(greater_than_five)"
   ]
  },
  {
   "cell_type": "code",
   "execution_count": 7,
   "metadata": {},
   "outputs": [
    {
     "name": "stdout",
     "output_type": "stream",
     "text": [
      "[6, 8, 10, 12]\n"
     ]
    }
   ],
   "source": [
    "## Filter with lambda function and multiple condition\n",
    "lst  = [1,2,3,4,5,6,7,8,9,10,11,12]\n",
    "even_and_greater_than_five = list(filter(lambda x:x>5 and x%2==0,lst))\n",
    "print(even_and_greater_than_five)\n"
   ]
  },
  {
   "cell_type": "code",
   "execution_count": 13,
   "metadata": {},
   "outputs": [
    {
     "data": {
      "text/plain": [
       "[{'name': 'Anshu', 'age': 26},\n",
       " {'name': 'Nobita', 'age': 35},\n",
       " {'name': 'Shizuka', 'age': 30}]"
      ]
     },
     "execution_count": 13,
     "metadata": {},
     "output_type": "execute_result"
    }
   ],
   "source": [
    "## filter() to check if the age is greater than 25 in dictionaries\n",
    "\n",
    "people = [\n",
    "    {'name':'Anshika' , 'age' : 18},\n",
    "    {'name' :'Anshu' , 'age' : 26},\n",
    "    {'name' :'Vanshu' , 'age' : 20},\n",
    "    {'name' :'Nobita' , 'age' : 35},\n",
    "    {'name' :'Shizuka' , 'age' : 30}\n",
    "]\n",
    "\n",
    "def age_greater_than25(person):\n",
    "    return person['age']>25\n",
    "    \n",
    "\n",
    "list(filter(age_greater_than25,people))"
   ]
  },
  {
   "cell_type": "markdown",
   "metadata": {},
   "source": [
    "### Conclusion\n",
    "The filter() function is a powerful tool for creating iterators that filters items out of an iterable based on a function. It is commonly used for data cleaning,filtering objects, and removing unwanted elements from lists. By mastering filter() , you can write concise and efficient code for processing  and manipulating collections in python."
   ]
  },
  {
   "cell_type": "markdown",
   "metadata": {},
   "source": []
  }
 ],
 "metadata": {
  "kernelspec": {
   "display_name": "base",
   "language": "python",
   "name": "python3"
  },
  "language_info": {
   "codemirror_mode": {
    "name": "ipython",
    "version": 3
   },
   "file_extension": ".py",
   "mimetype": "text/x-python",
   "name": "python",
   "nbconvert_exporter": "python",
   "pygments_lexer": "ipython3",
   "version": "3.12.4"
  }
 },
 "nbformat": 4,
 "nbformat_minor": 2
}
